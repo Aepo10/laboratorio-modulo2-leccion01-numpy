{
 "cells": [
  {
   "cell_type": "markdown",
   "id": "6db588db",
   "metadata": {},
   "source": [
    "<div style=\"text-align: center;\">\n",
    "  <img src=\"https://github.com/Hack-io-Data/Imagenes/blob/main/01-LogosHackio/logo_naranja@4x.png?raw=true\" alt=\"esquema\" />\n",
    "</div>"
   ]
  },
  {
   "cell_type": "code",
   "execution_count": 4,
   "id": "11d3f85f",
   "metadata": {},
   "outputs": [],
   "source": [
    "import os"
   ]
  },
  {
   "cell_type": "code",
   "execution_count": 5,
   "id": "64ff9293",
   "metadata": {},
   "outputs": [
    {
     "data": {
      "text/plain": [
       "['laboratorio-modulo1-leccion01-break-pass-continue.ipynb',\n",
       " 'laboratorio-modulo1-leccion01-manejo-errores.ipynb',\n",
       " 'laboratorio-modulo1-leccion02-clases.ipynb',\n",
       " 'laboratorio-modulo2-leccion01-numpy.ipynb']"
      ]
     },
     "execution_count": 5,
     "metadata": {},
     "output_type": "execute_result"
    }
   ],
   "source": [
    "datos = os.listdir()\n",
    "datos"
   ]
  },
  {
   "cell_type": "code",
   "execution_count": 7,
   "id": "74e36252",
   "metadata": {},
   "outputs": [
    {
     "name": "stderr",
     "output_type": "stream",
     "text": [
      "<>:1: SyntaxWarning: invalid escape sequence '\\d'\n",
      "<>:1: SyntaxWarning: invalid escape sequence '\\d'\n",
      "C:\\Users\\ganad\\AppData\\Local\\Temp\\ipykernel_20928\\1996085454.py:1: SyntaxWarning: invalid escape sequence '\\d'\n",
      "  diccioanrio_df = {diccioanrio_df[re.findall(\"\\d{4}\", i)[0]] : pd.read_csv(f\"..dato/{i}\") for i in datos}\n"
     ]
    },
    {
     "ename": "NameError",
     "evalue": "name 'diccioanrio_df' is not defined",
     "output_type": "error",
     "traceback": [
      "\u001b[1;31m---------------------------------------------------------------------------\u001b[0m",
      "\u001b[1;31mNameError\u001b[0m                                 Traceback (most recent call last)",
      "Cell \u001b[1;32mIn[7], line 1\u001b[0m\n\u001b[1;32m----> 1\u001b[0m diccioanrio_df \u001b[38;5;241m=\u001b[39m {\u001b[43mdiccioanrio_df\u001b[49m[re\u001b[38;5;241m.\u001b[39mfindall(\u001b[38;5;124m\"\u001b[39m\u001b[38;5;124m\\\u001b[39m\u001b[38;5;124md\u001b[39m\u001b[38;5;132;01m{4}\u001b[39;00m\u001b[38;5;124m\"\u001b[39m, i)[\u001b[38;5;241m0\u001b[39m]] : pd\u001b[38;5;241m.\u001b[39mread_csv(\u001b[38;5;124mf\u001b[39m\u001b[38;5;124m\"\u001b[39m\u001b[38;5;124m..dato/\u001b[39m\u001b[38;5;132;01m{\u001b[39;00mi\u001b[38;5;132;01m}\u001b[39;00m\u001b[38;5;124m\"\u001b[39m) \u001b[38;5;28;01mfor\u001b[39;00m i \u001b[38;5;129;01min\u001b[39;00m datos}\n\u001b[0;32m      3\u001b[0m diccioanrio_df \u001b[38;5;241m=\u001b[39m {}\n\u001b[0;32m      4\u001b[0m \u001b[38;5;28;01mfor\u001b[39;00m i \u001b[38;5;129;01min\u001b[39;00m datos:\n",
      "\u001b[1;31mNameError\u001b[0m: name 'diccioanrio_df' is not defined"
     ]
    }
   ],
   "source": [
    "diccioanrio_df = {diccioanrio_df[re.findall(\"\\d{4}\", i)[0]] : pd.read_csv(f\"..dato/{i}\") for i in datos}\n",
    "\n",
    "diccioanrio_df = {}\n",
    "for i in datos:\n",
    "    df = pd.read_csv(i)\n",
    "    diccioanrio_df[i.spl]\n"
   ]
  },
  {
   "cell_type": "markdown",
   "id": "11308d6c",
   "metadata": {},
   "source": [
    "for i in datos\n",
    "# Laboratorio de NumPy"
   ]
  },
  {
   "cell_type": "markdown",
   "id": "a19d4596",
   "metadata": {},
   "source": [
    "#### Ejercicio 1 - Crea un array de 1D con los números del 0 al 9."
   ]
  },
  {
   "cell_type": "code",
   "execution_count": 11,
   "id": "9d4e1d42",
   "metadata": {},
   "outputs": [
    {
     "name": "stdout",
     "output_type": "stream",
     "text": [
      "Requirement already satisfied: numpy in c:\\users\\ganad\\appdata\\local\\programs\\python\\python312\\lib\\site-packages (2.1.3)\n"
     ]
    },
    {
     "name": "stderr",
     "output_type": "stream",
     "text": [
      "\n",
      "[notice] A new release of pip is available: 24.2 -> 24.3.1\n",
      "[notice] To update, run: python.exe -m pip install --upgrade pip\n"
     ]
    }
   ],
   "source": [
    "!pip install numpy\n",
    "import numpy as np"
   ]
  },
  {
   "cell_type": "code",
   "execution_count": 25,
   "id": "29156d93",
   "metadata": {},
   "outputs": [
    {
     "name": "stdout",
     "output_type": "stream",
     "text": [
      "[0 1 2 3 4 5 6 7 8 9]\n"
     ]
    }
   ],
   "source": [
    "array1_1d = np.arange(0,10,1,dtype=int)\n",
    "print(array1_1d)"
   ]
  },
  {
   "cell_type": "markdown",
   "id": "f4a41f16",
   "metadata": {},
   "source": [
    "#### Ejercicio 2 - Convierte un array 1D en un array 2D con 2 filas y 5 columnas."
   ]
  },
  {
   "cell_type": "code",
   "execution_count": 26,
   "id": "3d7cef3c",
   "metadata": {},
   "outputs": [
    {
     "name": "stdout",
     "output_type": "stream",
     "text": [
      "[[0 1 2 3 4]\n",
      " [5 6 7 8 9]]\n"
     ]
    }
   ],
   "source": [
    "array2_2d = array1_1d.reshape(2,5)\n",
    "print(array2_2d)"
   ]
  },
  {
   "cell_type": "markdown",
   "id": "86bb8999",
   "metadata": {},
   "source": [
    "#### Ejercicio 3 - Encuentra los índices de los elementos con valor distinto de 0 en el siguiente array: [0, 2, 0, 3, 0, 4, 0]."
   ]
  },
  {
   "cell_type": "code",
   "execution_count": 35,
   "id": "d1fcfca4",
   "metadata": {},
   "outputs": [
    {
     "name": "stdout",
     "output_type": "stream",
     "text": [
      "[1 3 5]\n"
     ]
    }
   ],
   "source": [
    "array3_1d = np.array([0,2,0,3,0,4,0])\n",
    "type(array3_1d)\n",
    "array3_1d.ndim\n",
    "mascara = array3_1d > 0\n",
    "elementos_filtrados = np.where(array3_1d>0)[0]\n",
    "\n",
    "    \n",
    "print(elementos_filtrados)"
   ]
  },
  {
   "cell_type": "markdown",
   "id": "1c548419",
   "metadata": {},
   "source": [
    "#### Ejercicio 4 - Crea un array 3x3 con valores aleatorios entre 0 y 1."
   ]
  },
  {
   "cell_type": "markdown",
   "id": "454b94e2",
   "metadata": {},
   "source": []
  },
  {
   "cell_type": "code",
   "execution_count": 43,
   "id": "e1d4f19f",
   "metadata": {},
   "outputs": [
    {
     "data": {
      "text/plain": [
       "array([[0.08940429, 0.42566369, 0.09581378],\n",
       "       [0.9519042 , 0.18490498, 0.27425694],\n",
       "       [0.35346302, 0.44439452, 0.4438402 ]])"
      ]
     },
     "execution_count": 43,
     "metadata": {},
     "output_type": "execute_result"
    }
   ],
   "source": [
    "array_4_3d = np.random.rand(3,3)\n",
    "array_4_3d\n"
   ]
  },
  {
   "cell_type": "markdown",
   "id": "aee82811",
   "metadata": {},
   "source": [
    "#### Ejercicio 5 - Crea un array de 10 números aleatorios y encuentra el valor máximo y mínimo."
   ]
  },
  {
   "cell_type": "code",
   "execution_count": 50,
   "id": "81fea76e",
   "metadata": {},
   "outputs": [
    {
     "name": "stdout",
     "output_type": "stream",
     "text": [
      "[[54 51 40 56 43 34 99  4 15 56]]\n",
      "elvalor máximo es 99\n",
      "elvalor minimo es 4\n"
     ]
    }
   ],
   "source": [
    "array_5_1d = np.random.randint(0,100,(1,10),int)\n",
    "print(array_5_1d)\n",
    "print(f\"elvalor máximo es {np.max(array_5_1d)}\")\n",
    "print(f\"elvalor minimo es {np.min(array_5_1d)}\")"
   ]
  },
  {
   "cell_type": "markdown",
   "id": "6559375b",
   "metadata": {},
   "source": [
    "#### Ejercicio 6 - Crea un array de una dimensión e inviértelo. "
   ]
  },
  {
   "cell_type": "code",
   "execution_count": 61,
   "id": "31385db0",
   "metadata": {},
   "outputs": [
    {
     "data": {
      "text/plain": [
       "array([9, 8, 7, 6, 5, 4, 3, 2, 1])"
      ]
     },
     "execution_count": 61,
     "metadata": {},
     "output_type": "execute_result"
    }
   ],
   "source": [
    "array6_1d = np.array([1,2,3,4,5,6,7,8,9])\n",
    "array6_1d.ndim\n",
    "array6_1d_inv = array6_1d[::-1]\n",
    "array6_1d_inv"
   ]
  },
  {
   "cell_type": "markdown",
   "id": "4457f046",
   "metadata": {},
   "source": [
    "\n",
    "#### Ejercicio 6 - Genera un array tridimensional de dimensiones (2, 3, 4) con valores enteros del 1 al 24.\n",
    "\n",
    "- Selecciona el primer `15` del array.\n",
    "\n",
    "- Selecciona todos los elementos del primer array. \n",
    "\n",
    "- Selecciona la última fila del último array\n"
   ]
  },
  {
   "cell_type": "code",
   "execution_count": 84,
   "id": "3cab04c9",
   "metadata": {},
   "outputs": [
    {
     "name": "stdout",
     "output_type": "stream",
     "text": [
      "[[[ 1  2  3  4]\n",
      "  [ 5  6  7  8]\n",
      "  [ 9 10 11 12]]\n",
      "\n",
      " [[13 14 15 16]\n",
      "  [17 18 19 20]\n",
      "  [21 22 23 24]]]\n",
      "el primer 15 está en [1]\n",
      "el primer array es: [[ 1  2  3  4]\n",
      " [ 5  6  7  8]\n",
      " [ 9 10 11 12]]\n",
      "la ultima fila es : [21 22 23 24]\n"
     ]
    }
   ],
   "source": [
    "array6_3d = np.arange(1,25,1,dtype=int)\n",
    "array6_3d = array6_3d.reshape(2,3,4)\n",
    "print(array6_3d)\n",
    "#el primer 15\n",
    "indice_15 = np.where(array6_3d==15)[0]\n",
    "print(f\"el primer 15 está en {indice_15}\")\n",
    "#primer array\n",
    "primer_array = array6_3d[0]\n",
    "print(f\"el primer array es: {primer_array}\")\n",
    "#ultima fila\n",
    "ultima_fila = array6_3d[-1,-1]\n",
    "print(f\"la ultima fila es : {ultima_fila}\")"
   ]
  },
  {
   "cell_type": "markdown",
   "id": "681b7e4e",
   "metadata": {},
   "source": [
    "\n",
    "#### Ejercicio 7 - Genera un array tridimensional de dimensiones (3, 2, 5) con valores enteros del 1 al 30.\n",
    "\n",
    "- Selecciona el subarray que contiene los dos primeros elementos de cada fila del primer array.\n",
    "\n",
    "- Selecciona el subarray que contiene todas las filas de los dos últimos arrays.\n"
   ]
  },
  {
   "cell_type": "code",
   "execution_count": 99,
   "id": "b008a9aa",
   "metadata": {},
   "outputs": [
    {
     "name": "stdout",
     "output_type": "stream",
     "text": [
      "[[[ 1  2  3  4  5]\n",
      "  [ 6  7  8  9 10]]\n",
      "\n",
      " [[11 12 13 14 15]\n",
      "  [16 17 18 19 20]]\n",
      "\n",
      " [[21 22 23 24 25]\n",
      "  [26 27 28 29 30]]]\n",
      "los dos primeros elementos de cada fila del primer array son [1, 6, 2, 7]\n",
      "todos los elementos de las filas de los dos ultimos arrays son: [[[11 12 13 14 15]\n",
      "  [16 17 18 19 20]]\n",
      "\n",
      " [[21 22 23 24 25]\n",
      "  [26 27 28 29 30]]]\n"
     ]
    }
   ],
   "source": [
    "array7_3d = np.arange(1,31,1,dtype=int)\n",
    "array7_3d = array7_3d.reshape(3,2,5)\n",
    "print(array7_3d)\n",
    "#subarray 1\n",
    "subarray_1 = [int(array7_3d[0,0,0]),int(array7_3d[0,1,0]),int(array7_3d[0,0,1]),int(array7_3d[0,1,1])]\n",
    "print(f\"los dos primeros elementos de cada fila del primer array son {subarray_1}\")\n",
    "subarray_2 = array7_3d[1:3,0:4]\n",
    "print(f\"todos los elementos de las filas de los dos ultimos arrays son: {subarray_2}\")\n"
   ]
  },
  {
   "cell_type": "markdown",
   "id": "4fabd9d0",
   "metadata": {},
   "source": [
    "#### Ejercicio 8 - Genera un array tridimensional de dimensiones (4, 3, 2) con valores enteros del 1 al 24.\n",
    "\n",
    "- Cambia todos los elementos de la segunda fila del segundo array por `0`.\n",
    "\n",
    "- Cambia todos los valores del último array a `-1`.\n"
   ]
  },
  {
   "cell_type": "code",
   "execution_count": 111,
   "id": "0ef45b69",
   "metadata": {},
   "outputs": [
    {
     "name": "stdout",
     "output_type": "stream",
     "text": [
      "el nuevo array con los cambios es: \n",
      "[[[ 1  2]\n",
      "  [ 3  4]\n",
      "  [ 5  6]]\n",
      "\n",
      " [[ 7  8]\n",
      "  [ 0  0]\n",
      "  [11 12]]\n",
      "\n",
      " [[13 14]\n",
      "  [15 16]\n",
      "  [17 18]]\n",
      "\n",
      " [[-1 -1]\n",
      "  [-1 -1]\n",
      "  [-1 -1]]]\n"
     ]
    }
   ],
   "source": [
    "ej8_array3d = np.arange(1,25,1).reshape(4,3,2)\n",
    "#cambio de los elementos \n",
    "ej8_array3d[1,1] = 0\n",
    "\n",
    "#segundo cambio\n",
    "ej8_array3d[3,0:4] = -1\n",
    "print(\"el nuevo array con los cambios es: \")\n",
    "print(ej8_array3d)"
   ]
  },
  {
   "cell_type": "markdown",
   "id": "c60bc3bb",
   "metadata": {},
   "source": [
    "\n",
    "#### Ejercicio 9 - Genera un array tridimensional de dimensiones (2, 4, 3) con valores enteros del -10 al 13.\n",
    "\n",
    "- Selecciona todos los elementos mayores a `5`.\n",
    "\n",
    "- Reemplaza todos los elementos negativos por `0`.\n"
   ]
  },
  {
   "cell_type": "code",
   "execution_count": 118,
   "id": "28bf9232",
   "metadata": {},
   "outputs": [
    {
     "name": "stdout",
     "output_type": "stream",
     "text": [
      "[[[-10  -9  -8]\n",
      "  [ -7  -6  -5]\n",
      "  [ -4  -3  -2]\n",
      "  [ -1   0   1]]\n",
      "\n",
      " [[  2   3   4]\n",
      "  [  5   6   7]\n",
      "  [  8   9  10]\n",
      "  [ 11  12  13]]]\n",
      "los números mayores a 5 son [ 6  7  8  9 10 11 12 13]\n",
      "la matriz cambiada es: [[[ 0  0  0]\n",
      "  [ 0  0  0]\n",
      "  [ 0  0  0]\n",
      "  [ 0  0  1]]\n",
      "\n",
      " [[ 2  3  4]\n",
      "  [ 5  6  7]\n",
      "  [ 8  9 10]\n",
      "  [11 12 13]]]\n"
     ]
    }
   ],
   "source": [
    "ej9_array3d = np.arange(-10,14,1).reshape(2,4,3)\n",
    "print(ej9_array3d)\n",
    "mayores_a_5 = ej9_array3d[ej9_array3d > 5]\n",
    "print(f\"los números mayores a 5 son {mayores_a_5}\")\n",
    "#hago el reemplazo:\n",
    "ej9_array3d[ej9_array3d < 0] = 0\n",
    "print(f\"la matriz cambiada es: {ej9_array3d}\")\n"
   ]
  },
  {
   "cell_type": "markdown",
   "id": "ab38a3be",
   "metadata": {},
   "source": [
    "#### Ejercicio 10 - Genera un array tridimensional de dimensiones (3, 3, 3) con valores enteros del 1 al 27.\n",
    "\n",
    "- Selecciona el subarray del segundo array que contenga solo las dos primeras columnas.\n",
    "\n",
    "- Selecciona todos los elementos del tercer array que sean mayores que `20`.\n"
   ]
  },
  {
   "cell_type": "code",
   "execution_count": 134,
   "id": "78c979cf",
   "metadata": {},
   "outputs": [
    {
     "name": "stdout",
     "output_type": "stream",
     "text": [
      "[[[ 1  2  3]\n",
      "  [ 4  5  6]\n",
      "  [ 7  8  9]]\n",
      "\n",
      " [[10 11 12]\n",
      "  [13 14 15]\n",
      "  [16 17 18]]\n",
      "\n",
      " [[19 20 21]\n",
      "  [22 23 24]\n",
      "  [25 26 27]]]\n",
      "el subarray sería: [[10 11]\n",
      " [13 14]\n",
      " [16 17]]\n",
      "los mayores a 20 del 3 array son: [21 22 23 24 25 26 27]\n"
     ]
    }
   ],
   "source": [
    "ej10_array3d = np.arange(1,28,1,dtype=int).reshape(3,3,3)\n",
    "print(ej10_array3d)\n",
    "#subarray 1\n",
    "sub1_10 = ej10_array3d[1,0:3,0:2]\n",
    "print(f\"el subarray sería: {sub1_10}\")\n",
    "#elementos mayores a 20\n",
    "mayores_20 = ej10_array3d[2][ej10_array3d[2] > 20]\n",
    "print(f\"los mayores a 20 del 3 array son: {mayores_20}\")"
   ]
  },
  {
   "cell_type": "markdown",
   "id": "f1a00156",
   "metadata": {},
   "source": [
    "#### Ejercicio 11 - Crea un array de 10 números aleatorios y reemplaza los valores máximos y mínimos por 0."
   ]
  },
  {
   "cell_type": "code",
   "execution_count": 156,
   "id": "990fa526",
   "metadata": {},
   "outputs": [
    {
     "name": "stdout",
     "output_type": "stream",
     "text": [
      "el original es: [[80 84 31 97 65 93 20 39 19 25]]\n",
      "con los cambios es: [[80 84 31  0 65 93 20 39  0 25]]\n"
     ]
    }
   ],
   "source": [
    "ej11_aleat = np.random.randint(0,100,(1,10))\n",
    "print(f\"el original es: {ej11_aleat}\")\n",
    "ej11_minimo = np.min(ej11_aleat)\n",
    "ej11_max = np.max(ej11_aleat)\n",
    "ej11_aleat[ej11_aleat == ej11_max] = 0 \n",
    "ej11_aleat[ej11_aleat == ej11_minimo] = 0 \n",
    "print(f\"con los cambios es: {ej11_aleat}\")"
   ]
  },
  {
   "cell_type": "markdown",
   "id": "781fafd0",
   "metadata": {},
   "source": [
    "#### Ejercicio 12 - Genera un array de 15 números aleatorios enteros entre 1 y 100 y reordénalo en orden ascendente."
   ]
  },
  {
   "cell_type": "code",
   "execution_count": 159,
   "id": "caa4fd47",
   "metadata": {},
   "outputs": [
    {
     "name": "stdout",
     "output_type": "stream",
     "text": [
      "el original es: [[ 3 65 58 38 77 39 64 32 10 88 10 68 61 44 92]]\n",
      "el reordenado es: [[ 3 10 10 32 38 39 44 58 61 64 65 68 77 88 92]]\n"
     ]
    }
   ],
   "source": [
    "ej12_aleatorio = np.random.randint(1,101,(1,15))\n",
    "print(f\"el original es: {ej12_aleatorio}\")\n",
    "ej12_ordenado = np.sort(ej12_aleatorio)\n",
    "print(f\"el reordenado es: {ej12_ordenado}\")"
   ]
  },
  {
   "cell_type": "markdown",
   "id": "45f10c3e",
   "metadata": {},
   "source": [
    "#### Ejercicio 11 - Calcula la suma de los elementos a lo largo de las filas y columnas en una matriz 4x4."
   ]
  },
  {
   "cell_type": "code",
   "execution_count": 162,
   "id": "90220788",
   "metadata": {},
   "outputs": [
    {
     "name": "stdout",
     "output_type": "stream",
     "text": [
      "[[ 7  9  5  5]\n",
      " [10  8  5 24]\n",
      " [21  2  1  2]\n",
      " [16 23 17 12]]\n",
      "la suma de las filas es igual a : [26 47 26 68]\n",
      "la suma de las filas es igual a : [54 42 28 43]\n"
     ]
    }
   ],
   "source": [
    "ej11_4x4 = np.random.randint(1,26,(4,4))\n",
    "print(ej11_4x4)\n",
    "suma_filas = np.sum(ej11_4x4, axis = 1)\n",
    "print(f\"la suma de las filas es igual a : {suma_filas}\")\n",
    "suma_col = np.sum(ej11_4x4, axis = 0)\n",
    "print(f\"la suma de las filas es igual a : {suma_col}\")"
   ]
  },
  {
   "cell_type": "markdown",
   "id": "69b9751a",
   "metadata": {},
   "source": [
    "#### Ejercicio 12 - Crea una matriz de 5x5 con valores en el borde igual a 1 y en el interior igual a 0."
   ]
  },
  {
   "cell_type": "code",
   "execution_count": 172,
   "id": "eca81323",
   "metadata": {},
   "outputs": [
    {
     "name": "stdout",
     "output_type": "stream",
     "text": [
      "la original es: \n",
      "[[7 9 9 9 2]\n",
      " [9 5 8 9 7]\n",
      " [9 9 9 5 6]\n",
      " [6 6 7 4 3]\n",
      " [5 8 6 8 3]]\n",
      "la transformada es: \n",
      "[[1 0 0 0 1]\n",
      " [1 0 0 0 1]\n",
      " [1 0 0 0 1]\n",
      " [1 0 0 0 1]\n",
      " [1 0 0 0 1]]\n"
     ]
    }
   ],
   "source": [
    "ej12_5x5 = np.random.randint(2,10,(5,5))\n",
    "print(\"la original es: \")\n",
    "print(ej12_5x5)\n",
    "ej12_5x5[:,0] = 1\n",
    "ej12_5x5[:,4] = 1\n",
    "ej12_5x5[:,1:4] = 0\n",
    "print(\"la transformada es: \")\n",
    "print(ej12_5x5)"
   ]
  },
  {
   "cell_type": "markdown",
   "id": "1ea8068d",
   "metadata": {},
   "source": [
    "#### Ejercicio 13 - Calcula la media y la desviación estándar de un array de 10 números aleatorios."
   ]
  },
  {
   "cell_type": "code",
   "execution_count": 176,
   "id": "05dd579d",
   "metadata": {},
   "outputs": [
    {
     "name": "stdout",
     "output_type": "stream",
     "text": [
      "la matriz es: [[88 39  5  8 31 87 49 96  6 50]]\n",
      "la media es: 45.9 y la desv típica es: 33.11932970336205\n"
     ]
    }
   ],
   "source": [
    "ej13_array = np.random.randint(2,100,(1,10))\n",
    "print(f\"la matriz es: {ej13_array}\")\n",
    "media13 = np.mean(ej13_array)\n",
    "desv13 = np.std(ej13_array)\n",
    "print(f\"la media es: {media13} y la desv típica es: {desv13}\")\n"
   ]
  },
  {
   "cell_type": "markdown",
   "id": "6add6669",
   "metadata": {},
   "source": [
    "#### Ejercicio 14 - Genera un array tridimensional de dimensiones (2, 3, 4) con valores enteros del 1 al 24.\n",
    "\n",
    "- Transpón el array para intercambiar los ejes de la forma (2, 3, 4) a (4, 3, 2).\n",
    "\n",
    "- Observa cómo cambian las posiciones de los elementos y sus índices después de la transposición. Explica en una celda de markdown que es lo que ha pasado. \n"
   ]
  },
  {
   "cell_type": "code",
   "execution_count": 178,
   "id": "ae98aca5",
   "metadata": {},
   "outputs": [
    {
     "name": "stdout",
     "output_type": "stream",
     "text": [
      "la original es: \n",
      "[[[ 1  2  3  4]\n",
      "  [ 5  6  7  8]\n",
      "  [ 9 10 11 12]]\n",
      "\n",
      " [[13 14 15 16]\n",
      "  [17 18 19 20]\n",
      "  [21 22 23 24]]]\n",
      "la transpuesta es: \n",
      "[[[ 1 13]\n",
      "  [ 5 17]\n",
      "  [ 9 21]]\n",
      "\n",
      " [[ 2 14]\n",
      "  [ 6 18]\n",
      "  [10 22]]\n",
      "\n",
      " [[ 3 15]\n",
      "  [ 7 19]\n",
      "  [11 23]]\n",
      "\n",
      " [[ 4 16]\n",
      "  [ 8 20]\n",
      "  [12 24]]]\n"
     ]
    }
   ],
   "source": [
    "ej14_array3d = np.arange(1,25,1).reshape(2,3,4)\n",
    "print(\"la original es: \")\n",
    "print(ej14_array3d)\n",
    "print(\"la transpuesta es: \")\n",
    "print(np.transpose(ej14_array3d))\n"
   ]
  },
  {
   "cell_type": "markdown",
   "id": "ffde4b75",
   "metadata": {},
   "source": [
    "lo que hace es trasponer los números, las columnas se convierten en arrays, las filas siguen siendo las mismas y las arrays se convierten en columnas."
   ]
  },
  {
   "cell_type": "markdown",
   "id": "1e32b5e6",
   "metadata": {},
   "source": [
    "#### Ejercicio 15 - Genera un array tridimensional de dimensiones (3, 4, 2) con valores enteros del 1 al 24.\n",
    "\n",
    "- Transpón el array para intercambiar el primer y segundo eje, de manera que la nueva forma del array sea (4, 3, 2).\n"
   ]
  },
  {
   "cell_type": "code",
   "execution_count": 183,
   "id": "0146fdd6",
   "metadata": {},
   "outputs": [
    {
     "name": "stdout",
     "output_type": "stream",
     "text": [
      "la original es: \n",
      "[[[ 1  2]\n",
      "  [ 3  4]\n",
      "  [ 5  6]\n",
      "  [ 7  8]]\n",
      "\n",
      " [[ 9 10]\n",
      "  [11 12]\n",
      "  [13 14]\n",
      "  [15 16]]\n",
      "\n",
      " [[17 18]\n",
      "  [19 20]\n",
      "  [21 22]\n",
      "  [23 24]]]\n",
      "la transpuesta es: \n",
      "[[[ 1  2]\n",
      "  [ 9 10]\n",
      "  [17 18]]\n",
      "\n",
      " [[ 3  4]\n",
      "  [11 12]\n",
      "  [19 20]]\n",
      "\n",
      " [[ 5  6]\n",
      "  [13 14]\n",
      "  [21 22]]\n",
      "\n",
      " [[ 7  8]\n",
      "  [15 16]\n",
      "  [23 24]]]\n"
     ]
    }
   ],
   "source": [
    "ej15_array3d = np.arange(1,25,1).reshape(3,4,2)\n",
    "print(\"la original es: \")\n",
    "print(ej15_array3d)\n",
    "print(\"la transpuesta es: \")\n",
    "print(np.transpose(ej15_array3d,(1,0,2)))"
   ]
  },
  {
   "cell_type": "code",
   "execution_count": null,
   "id": "6dfb3599",
   "metadata": {},
   "outputs": [],
   "source": []
  },
  {
   "cell_type": "markdown",
   "id": "fcf92586",
   "metadata": {},
   "source": [
    "#### Ejercicio 16 - Genera un array tridimensional de dimensiones (3, 2, 4) con valores enteros del 1 al 24.\n",
    "\n",
    "- Realiza una rotación completa de los ejes para convertir la forma original (3, 2, 4) en (4, 3, 2).\n"
   ]
  },
  {
   "cell_type": "code",
   "execution_count": 184,
   "id": "dd2c7f27",
   "metadata": {},
   "outputs": [
    {
     "name": "stdout",
     "output_type": "stream",
     "text": [
      "la original es: \n",
      "[[[ 1  2  3  4]\n",
      "  [ 5  6  7  8]]\n",
      "\n",
      " [[ 9 10 11 12]\n",
      "  [13 14 15 16]]\n",
      "\n",
      " [[17 18 19 20]\n",
      "  [21 22 23 24]]]\n",
      "la transpuesta es: \n",
      "[[[ 1  5]\n",
      "  [ 9 13]\n",
      "  [17 21]]\n",
      "\n",
      " [[ 2  6]\n",
      "  [10 14]\n",
      "  [18 22]]\n",
      "\n",
      " [[ 3  7]\n",
      "  [11 15]\n",
      "  [19 23]]\n",
      "\n",
      " [[ 4  8]\n",
      "  [12 16]\n",
      "  [20 24]]]\n"
     ]
    }
   ],
   "source": [
    "ej15_array3d = np.arange(1,25,1).reshape(3,2,4)\n",
    "print(\"la original es: \")\n",
    "print(ej15_array3d)\n",
    "print(\"la transpuesta es: \")\n",
    "print(np.transpose(ej15_array3d,(2,0,1)))"
   ]
  },
  {
   "cell_type": "code",
   "execution_count": null,
   "id": "75ec6a84",
   "metadata": {},
   "outputs": [],
   "source": []
  },
  {
   "cell_type": "markdown",
   "id": "1795e11f",
   "metadata": {},
   "source": [
    "#### Ejercicio 17 - Manipulación de Arrays en 3D\n",
    "\n",
    "- Crea un array tridimensional con dimensiones (3, 4, 5) cuyos elementos sean números enteros aleatorios entre -10 y 10.\n",
    "\n",
    "- Crea un array vacío con la misma forma y dimensiones que el array creado anteriormente. Luego, reemplaza los valores de la matriz vacía basada en los valores del primer array bajo las siguientes condiciones:\n",
    "\n",
    "   - Si el valor es igual a la mediana, se reemplaza por `\"M\"`.\n",
    "\n",
    "   - Si el valor es mayor que la mediana, se reemplaza por `\"X\"`.\n",
    "\n",
    "   - Si el valor es menor que la mediana, se reemplaza por `\"Y\"`.\n",
    "\n",
    "   - Si el valor es igual al máximo, se reemplaza por `\"MAX\"`.\n",
    "\n",
    "   - Si el valor es igual al mínimo, se reemplaza por `\"MIN\"`.\n"
   ]
  },
  {
   "cell_type": "code",
   "execution_count": 200,
   "id": "d309b397",
   "metadata": {},
   "outputs": [
    {
     "name": "stdout",
     "output_type": "stream",
     "text": [
      "la original es: \n",
      "[[[  7   6  10   0   5]\n",
      "  [  5  -1 -10  10   8]\n",
      "  [ -4   2  -1  -8   6]\n",
      "  [  4   5  -3  -6 -10]]\n",
      "\n",
      " [[ -7  -2   0  -7   5]\n",
      "  [ -9  -2  -7   8  -8]\n",
      "  [ -7   4  -5   0  -8]\n",
      "  [-10   6   5   7  -7]]\n",
      "\n",
      " [[  5  10   8  10  10]\n",
      "  [-10  -9   6  -5  -1]\n",
      "  [  9  -6   5   9  -3]\n",
      "  [  2   1  -9 -10  -4]]]\n",
      "la transformada es: \n",
      "[[['X' 'X' 'X' 'M' 'X']\n",
      "  ['X' 'Y' 'Y' 'X' 'X']\n",
      "  ['Y' 'X' 'Y' 'Y' 'X']\n",
      "  ['X' 'X' 'Y' 'Y' 'Y']]\n",
      "\n",
      " [['Y' 'Y' 'M' 'Y' 'X']\n",
      "  ['Y' 'Y' 'Y' 'X' 'Y']\n",
      "  ['Y' 'X' 'Y' 'M' 'Y']\n",
      "  ['Y' 'X' 'X' 'X' 'Y']]\n",
      "\n",
      " [['X' 'X' 'X' 'X' 'X']\n",
      "  ['Y' 'Y' 'X' 'Y' 'Y']\n",
      "  ['X' 'Y' 'X' 'X' 'Y']\n",
      "  ['X' 'X' 'Y' 'Y' 'Y']]]\n"
     ]
    }
   ],
   "source": [
    "ej17_array3d = np.random.randint(-10,11,(3,4,5))\n",
    "print(\"la original es: \")\n",
    "print(ej17_array3d)\n",
    "mediana = np.median(ej17_array3d)\n",
    "minimo = np.min(ej17_array3d)\n",
    "maximo = np.max(ej17_array3d)\n",
    "\n",
    "array17_vacio = np.empty(ej17_array3d.shape, dtype=str)\n",
    "array17_vacio[ej17_array3d == mediana] = \"M\"\n",
    "array17_vacio[ej17_array3d == minimo] = \"MIN\"\n",
    "array17_vacio[ej17_array3d == maximo] = \"MAX\"\n",
    "array17_vacio[ej17_array3d < mediana] = \"Y\"\n",
    "array17_vacio[ej17_array3d > mediana] = \"X\"\n",
    "print(\"la transformada es: \")\n",
    "print(array17_vacio)"
   ]
  },
  {
   "cell_type": "code",
   "execution_count": null,
   "id": "586fe748",
   "metadata": {},
   "outputs": [],
   "source": []
  },
  {
   "cell_type": "code",
   "execution_count": null,
   "id": "c38d5ea3",
   "metadata": {},
   "outputs": [],
   "source": []
  },
  {
   "cell_type": "code",
   "execution_count": null,
   "id": "3c4aad7e",
   "metadata": {},
   "outputs": [],
   "source": []
  },
  {
   "cell_type": "code",
   "execution_count": null,
   "id": "1b3d4e26",
   "metadata": {},
   "outputs": [],
   "source": []
  },
  {
   "cell_type": "code",
   "execution_count": null,
   "id": "81ee01e7",
   "metadata": {},
   "outputs": [],
   "source": []
  },
  {
   "cell_type": "code",
   "execution_count": null,
   "id": "a7d49055",
   "metadata": {},
   "outputs": [],
   "source": []
  },
  {
   "cell_type": "code",
   "execution_count": null,
   "id": "5bb2181b",
   "metadata": {},
   "outputs": [],
   "source": []
  },
  {
   "cell_type": "markdown",
   "id": "83794704",
   "metadata": {},
   "source": [
    "#### Ejercicio 18 - Verificación de Filas y Columnas Iguales\n",
    "\n",
    "Crea un array bidimensional de dimensiones 4x4, escribe un código para determinar si alguna fila es exactamente igual a alguna columna.\n",
    "\n",
    "**Reglas:**\n",
    "\n",
    "- No puedes usar funciones predefinidas de NumPy para comparar filas y columnas (`np.array_equal`, etc.).\n",
    "\n",
    "- Debes resolverlo con estructuras básicas de Python (bucles, condicionales, etc.).\n",
    "\n",
    "- Debes revisar si hay al menos una fila que coincida exactamente con alguna columna.\n",
    "\n",
    "**Pistas**:\n",
    "\n",
    "- Puedes recorrer cada fila y cada columna de la matriz usando bucles.\n",
    "\n",
    "- Para comparar una fila con una columna, puedes hacerlo elemento por elemento."
   ]
  },
  {
   "cell_type": "code",
   "execution_count": null,
   "id": "afd51c60",
   "metadata": {},
   "outputs": [],
   "source": []
  }
 ],
 "metadata": {
  "kernelspec": {
   "display_name": "Python 3",
   "language": "python",
   "name": "python3"
  },
  "language_info": {
   "codemirror_mode": {
    "name": "ipython",
    "version": 3
   },
   "file_extension": ".py",
   "mimetype": "text/x-python",
   "name": "python",
   "nbconvert_exporter": "python",
   "pygments_lexer": "ipython3",
   "version": "3.12.5"
  }
 },
 "nbformat": 4,
 "nbformat_minor": 5
}
